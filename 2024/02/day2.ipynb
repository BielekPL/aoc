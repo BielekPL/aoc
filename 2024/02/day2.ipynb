{
 "cells": [
  {
   "cell_type": "markdown",
   "id": "c07c2394",
   "metadata": {},
   "source": []
  },
  {
   "cell_type": "code",
   "execution_count": null,
   "id": "4c2687a0",
   "metadata": {},
   "outputs": [],
   "source": [
    "with open(\"2024/inputs/day2.txt\") as f:\n",
    "    data = f.read().split()"
   ]
  }
 ],
 "metadata": {
  "kernelspec": {
   "display_name": "aoc",
   "language": "python",
   "name": "aoc"
  },
  "language_info": {
   "codemirror_mode": {
    "name": "ipython",
    "version": 3
   },
   "file_extension": ".py",
   "mimetype": "text/x-python",
   "name": "python",
   "nbconvert_exporter": "python",
   "pygments_lexer": "ipython3",
   "version": "3.12.3"
  }
 },
 "nbformat": 4,
 "nbformat_minor": 5
}

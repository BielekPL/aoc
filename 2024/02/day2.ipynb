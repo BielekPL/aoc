{
 "cells": [
  {
   "cell_type": "markdown",
   "id": "c07c2394",
   "metadata": {},
   "source": [
    "<h2>--- Day 2: Red-Nosed Reports ---</h2><p>Fortunately, the first location The Historians want to search isn't a long walk from the Chief Historian's office.</p>\n",
    "<p>While the <a href=\"/2015/day/19\">Red-Nosed Reindeer nuclear fusion/fission plant</a> appears to contain no sign of the Chief Historian, the engineers there run up to you as soon as they see you. Apparently, they <em>still</em> talk about the time Rudolph was saved through molecular synthesis from a single electron.</p>\n",
    "<p>They're quick to add that - since you're already here - they'd really appreciate your help analyzing some unusual data from the Red-Nosed reactor. You turn to check if The Historians are waiting for you, but they seem to have already divided into groups that are currently searching every corner of the facility. You offer to help with the unusual data.</p>\n",
    "<p>The unusual data (your puzzle input) consists of many <em>reports</em>, one report per line. Each report is a list of numbers called <em>levels</em> that are separated by spaces. For example:</p>\n",
    "<pre><code>7 6 4 2 1\n",
    "1 2 7 8 9\n",
    "9 7 6 2 1\n",
    "1 3 2 4 5\n",
    "8 6 4 4 1\n",
    "1 3 6 7 9\n",
    "</code></pre>\n",
    "<p>This example data contains six reports each containing five levels.</p>\n",
    "<p>The engineers are trying to figure out which reports are <em>safe</em>. The Red-Nosed reactor safety systems can only tolerate levels that are either gradually increasing or gradually decreasing. So, a report only counts as safe if both of the following are true:</p>\n",
    "<ul>\n",
    "<li>The levels are either <em>all increasing</em> or <em>all decreasing</em>.</li>\n",
    "<li>Any two adjacent levels differ by <em>at least one</em> and <em>at most three</em>.</li>\n",
    "</ul>\n",
    "<p>In the example above, the reports can be found safe or unsafe by checking those rules:</p>\n",
    "<ul>\n",
    "<li><code>7 6 4 2 1</code>: <em>Safe</em> because the levels are all decreasing by 1 or 2.</li>\n",
    "<li><code>1 2 7 8 9</code>: <em>Unsafe</em> because <code>2 7</code> is an increase of 5.</li>\n",
    "<li><code>9 7 6 2 1</code>: <em>Unsafe</em> because <code>6 2</code> is a decrease of 4.</li>\n",
    "<li><code>1 3 2 4 5</code>: <em>Unsafe</em> because <code>1 3</code> is increasing but <code>3 2</code> is decreasing.</li>\n",
    "<li><code>8 6 4 4 1</code>: <em>Unsafe</em> because <code>4 4</code> is neither an increase or a decrease.</li>\n",
    "<li><code>1 3 6 7 9</code>: <em>Safe</em> because the levels are all increasing by 1, 2, or 3.</li>\n",
    "</ul>\n",
    "<p>So, in this example, <code><em>2</em></code> reports are <em>safe</em>.</p>\n",
    "<p>Analyze the unusual data from the engineers. <em>How many reports are safe?</em></p>\n"
   ]
  },
  {
   "cell_type": "code",
   "execution_count": null,
   "id": "4c2687a0",
   "metadata": {},
   "outputs": [],
   "source": [
    "with open(\"2024/inputs/day2.txt\") as f:\n",
    "    data = f.read().split()"
   ]
  }
 ],
 "metadata": {
  "kernelspec": {
   "display_name": "aoc",
   "language": "python",
   "name": "aoc"
  },
  "language_info": {
   "codemirror_mode": {
    "name": "ipython",
    "version": 3
   },
   "file_extension": ".py",
   "mimetype": "text/x-python",
   "name": "python",
   "nbconvert_exporter": "python",
   "pygments_lexer": "ipython3",
   "version": "3.12.3"
  }
 },
 "nbformat": 4,
 "nbformat_minor": 5
}

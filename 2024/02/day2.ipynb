{
 "cells": [
  {
   "cell_type": "markdown",
   "id": "c07c2394",
   "metadata": {},
   "source": [
    "<h2>--- Day 2: Red-Nosed Reports ---</h2><p>Fortunately, the first location The Historians want to search isn't a long walk from the Chief Historian's office.</p>\n",
    "<p>While the <a href=\"/2015/day/19\">Red-Nosed Reindeer nuclear fusion/fission plant</a> appears to contain no sign of the Chief Historian, the engineers there run up to you as soon as they see you. Apparently, they <em>still</em> talk about the time Rudolph was saved through molecular synthesis from a single electron.</p>\n",
    "<p>They're quick to add that - since you're already here - they'd really appreciate your help analyzing some unusual data from the Red-Nosed reactor. You turn to check if The Historians are waiting for you, but they seem to have already divided into groups that are currently searching every corner of the facility. You offer to help with the unusual data.</p>\n",
    "<p>The unusual data (your puzzle input) consists of many <em>reports</em>, one report per line. Each report is a list of numbers called <em>levels</em> that are separated by spaces. For example:</p>\n",
    "<pre><code>7 6 4 2 1\n",
    "1 2 7 8 9\n",
    "9 7 6 2 1\n",
    "1 3 2 4 5\n",
    "8 6 4 4 1\n",
    "1 3 6 7 9\n",
    "</code></pre>\n",
    "<p>This example data contains six reports each containing five levels.</p>\n",
    "<p>The engineers are trying to figure out which reports are <em>safe</em>. The Red-Nosed reactor safety systems can only tolerate levels that are either gradually increasing or gradually decreasing. So, a report only counts as safe if both of the following are true:</p>\n",
    "<ul>\n",
    "<li>The levels are either <em>all increasing</em> or <em>all decreasing</em>.</li>\n",
    "<li>Any two adjacent levels differ by <em>at least one</em> and <em>at most three</em>.</li>\n",
    "</ul>\n",
    "<p>In the example above, the reports can be found safe or unsafe by checking those rules:</p>\n",
    "<ul>\n",
    "<li><code>7 6 4 2 1</code>: <em>Safe</em> because the levels are all decreasing by 1 or 2.</li>\n",
    "<li><code>1 2 7 8 9</code>: <em>Unsafe</em> because <code>2 7</code> is an increase of 5.</li>\n",
    "<li><code>9 7 6 2 1</code>: <em>Unsafe</em> because <code>6 2</code> is a decrease of 4.</li>\n",
    "<li><code>1 3 2 4 5</code>: <em>Unsafe</em> because <code>1 3</code> is increasing but <code>3 2</code> is decreasing.</li>\n",
    "<li><code>8 6 4 4 1</code>: <em>Unsafe</em> because <code>4 4</code> is neither an increase or a decrease.</li>\n",
    "<li><code>1 3 6 7 9</code>: <em>Safe</em> because the levels are all increasing by 1, 2, or 3.</li>\n",
    "</ul>\n",
    "<p>So, in this example, <code><em>2</em></code> reports are <em>safe</em>.</p>\n",
    "<p>Analyze the unusual data from the engineers. <em>How many reports are safe?</em></p>\n"
   ]
  },
  {
   "cell_type": "code",
   "execution_count": 15,
   "id": "4c2687a0",
   "metadata": {},
   "outputs": [
    {
     "name": "stdout",
     "output_type": "stream",
     "text": [
      "534\n"
     ]
    }
   ],
   "source": [
    "with open(\"../inputs/day2.txt\") as f:\n",
    "    data = f.read().splitlines()\n",
    "\n",
    "test_data = ['7 6 4 2 1',\n",
    "             '1 2 7 8 9',\n",
    "             '9 7 6 2 1',\n",
    "             '1 3 2 4 5',\n",
    "             '8 6 4 4 1',\n",
    "             '1 3 6 7 9']\n",
    "\n",
    "def is_safe_asc(arr):\n",
    "    return all(arr[i+1] - arr[i] <= 3 and arr[i+1] - arr[i] >= 1 for i in range(len(arr) - 1))\n",
    "\n",
    "def is_safe_desc(arr):\n",
    "    return all(arr[i] - arr[i+1] <= 3 and arr[i] - arr[i+1] >= 1 for i in range(len(arr) - 1))\n",
    "\n",
    "safe_reports = 0\n",
    "for line in data:\n",
    "    report = line.split()\n",
    "    report = [int(i) for i in report]\n",
    "    if is_safe_asc(report) or is_safe_desc(report):\n",
    "        safe_reports += 1\n",
    "\n",
    "print(safe_reports)"
   ]
  },
  {
   "cell_type": "markdown",
   "id": "526f358e",
   "metadata": {},
   "source": [
    "That's the right answer!  You are <span class=\"day-success\">one gold star</span> closer to finding the Chief Historian. <a href=\"/2024/day/2#part2\">[Continue to Part Two]</a>"
   ]
  },
  {
   "cell_type": "markdown",
   "id": "f53f2f92",
   "metadata": {},
   "source": [
    "<h2 id=\"part2\">--- Part Two ---</h2><p>The engineers are surprised by the low number of safe reports until they realize they forgot to tell you about the <span title=\"I need to get one of these!\">Problem Dampener</span>.</p>\n",
    "<p>The Problem Dampener is a reactor-mounted module that lets the reactor safety systems <em>tolerate a single bad level</em> in what would otherwise be a safe report. It's like the bad level never happened!</p>\n",
    "<p>Now, the same rules apply as before, except if removing a single level from an unsafe report would make it safe, the report instead counts as safe.</p>\n",
    "<p>More of the above example's reports are now safe:</p>\n",
    "<ul>\n",
    "<li><code>7 6 4 2 1</code>: <em>Safe</em> without removing any level.</li>\n",
    "<li><code>1 2 7 8 9</code>: <em>Unsafe</em> regardless of which level is removed.</li>\n",
    "<li><code>9 7 6 2 1</code>: <em>Unsafe</em> regardless of which level is removed.</li>\n",
    "<li><code>1 <em>3</em> 2 4 5</code>: <em>Safe</em> by removing the second level, <code>3</code>.</li>\n",
    "<li><code>8 6 <em>4</em> 4 1</code>: <em>Safe</em> by removing the third level, <code>4</code>.</li>\n",
    "<li><code>1 3 6 7 9</code>: <em>Safe</em> without removing any level.</li>\n",
    "</ul>\n",
    "<p>Thanks to the Problem Dampener, <code><em>4</em></code> reports are actually <em>safe</em>!</p>\n",
    "<p>Update your analysis by handling situations where the Problem Dampener can remove a single level from unsafe reports. <em>How many reports are now safe?</em></p>\n"
   ]
  },
  {
   "cell_type": "code",
   "execution_count": 18,
   "id": "c0ce9eb3",
   "metadata": {},
   "outputs": [
    {
     "name": "stdout",
     "output_type": "stream",
     "text": [
      "577\n"
     ]
    }
   ],
   "source": [
    "safe_reports = 0\n",
    "for line in data:\n",
    "    report = line.split()\n",
    "    report = [int(i) for i in report]\n",
    "    if is_safe_asc(report) or is_safe_desc(report):\n",
    "        safe_reports += 1\n",
    "        continue\n",
    "    for i in range(len(report)):\n",
    "        _report = report[:]\n",
    "        _report.pop(i)\n",
    "        if is_safe_asc(_report) or is_safe_desc(_report):\n",
    "            safe_reports += 1\n",
    "            break\n",
    "\n",
    "print(safe_reports)"
   ]
  },
  {
   "cell_type": "markdown",
   "id": "258e361f",
   "metadata": {},
   "source": [
    "<p>That's the right answer!  You are <span class=\"day-success\">one gold star</span> closer to finding the Chief Historian.</p><p>You have completed Day 2! You can <span class=\"share\">[Share<span class=\"share-content\">on\n",
    "  <a href=\"https://bsky.app/intent/compose?text=I+just+completed+%22Red%2DNosed+Reports%22+%2D+Day+2+%2D+Advent+of+Code+2024+%23AdventOfCode+https%3A%2F%2Fadventofcode%2Ecom%2F2024%2Fday%2F2\" target=\"_blank\">Bluesky</a>\n",
    "  <a href=\"https://twitter.com/intent/tweet?text=I+just+completed+%22Red%2DNosed+Reports%22+%2D+Day+2+%2D+Advent+of+Code+2024&amp;url=https%3A%2F%2Fadventofcode%2Ecom%2F2024%2Fday%2F2&amp;related=ericwastl&amp;hashtags=AdventOfCode\" target=\"_blank\">Twitter</a>\n",
    "  <a href=\"javascript:void(0);\" onclick=\"var ms; try{ms=localStorage.getItem('mastodon.server')}finally{} if(typeof ms!=='string')ms=''; ms=prompt('Mastodon Server?',ms); if(typeof ms==='string' &amp;&amp; ms.length){this.href='https://'+ms+'/share?text=I+just+completed+%22Red%2DNosed+Reports%22+%2D+Day+2+%2D+Advent+of+Code+2024+%23AdventOfCode+https%3A%2F%2Fadventofcode%2Ecom%2F2024%2Fday%2F2';try{localStorage.setItem('mastodon.server',ms);}finally{}}else{return false;}\" target=\"_blank\">Mastodon</a></span>]</span> this victory or <a href=\"/2024\">[Return to Your Advent Calendar]</a>.</p>"
   ]
  }
 ],
 "metadata": {
  "kernelspec": {
   "display_name": "aoc",
   "language": "python",
   "name": "aoc"
  },
  "language_info": {
   "codemirror_mode": {
    "name": "ipython",
    "version": 3
   },
   "file_extension": ".py",
   "mimetype": "text/x-python",
   "name": "python",
   "nbconvert_exporter": "python",
   "pygments_lexer": "ipython3",
   "version": "3.12.3"
  }
 },
 "nbformat": 4,
 "nbformat_minor": 5
}
